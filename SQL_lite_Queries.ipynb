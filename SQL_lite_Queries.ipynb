{
  "nbformat": 4,
  "nbformat_minor": 0,
  "metadata": {
    "colab": {
      "provenance": [],
      "mount_file_id": "1viDHCJZNKAE38EvTYjs3po9dpUd1pqSf",
      "authorship_tag": "ABX9TyPOHGK6zDwNuGqd4rmtUCDg",
      "include_colab_link": true
    },
    "kernelspec": {
      "name": "python3",
      "display_name": "Python 3"
    },
    "language_info": {
      "name": "python"
    }
  },
  "cells": [
    {
      "cell_type": "markdown",
      "metadata": {
        "id": "view-in-github",
        "colab_type": "text"
      },
      "source": [
        "<a href=\"https://colab.research.google.com/github/ash-victor/Food-Access-NC/blob/main/SQL_lite_Queries.ipynb\" target=\"_parent\"><img src=\"https://colab.research.google.com/assets/colab-badge.svg\" alt=\"Open In Colab\"/></a>"
      ]
    },
    {
      "cell_type": "markdown",
      "source": [
        "### Set-Up"
      ],
      "metadata": {
        "id": "qaUYHrT66gaH"
      }
    },
    {
      "cell_type": "code",
      "source": [
        "import csv\n",
        "import sqlite3"
      ],
      "metadata": {
        "id": "VWCXQu0XluGI"
      },
      "execution_count": null,
      "outputs": []
    },
    {
      "cell_type": "code",
      "source": [
        "conn = sqlite3.connect('Food_Access_Atlas.db')"
      ],
      "metadata": {
        "id": "IZxVDhOtmDQk"
      },
      "execution_count": null,
      "outputs": []
    },
    {
      "cell_type": "code",
      "source": [
        "cursor = conn.cursor()"
      ],
      "metadata": {
        "id": "kLPKTda-mEwa"
      },
      "execution_count": null,
      "outputs": []
    },
    {
      "cell_type": "code",
      "execution_count": null,
      "metadata": {
        "id": "c7VMkx_okveR"
      },
      "outputs": [],
      "source": [
        "# SQLite: Loading Food Access Database\n",
        "filepath = \"drive/My Drive/projects/Food_Access/Data/Food_AccessNC.csv\""
      ]
    },
    {
      "cell_type": "code",
      "source": [
        "with open(filepath, 'r') as csv_file:\n",
        "    csv_reader = csv.reader(csv_file)\n",
        "    header = next(csv_reader)  # Read the header row\n",
        "\n",
        "    # Create a table with columns based on the CSV header\n",
        "    create_table_query = f'''\n",
        "        CREATE TABLE IF NOT EXISTS Food_Access (\n",
        "            {', '.join([f'{column} TEXT' for column in header])}\n",
        "        )\n",
        "    '''\n",
        "    cursor.execute(create_table_query)\n",
        "\n",
        "    # Insert data into the table\n",
        "    insert_query = f'''\n",
        "        INSERT INTO Food_Access ({', '.join(header)})\n",
        "        VALUES ({', '.join(['?' for _ in header])})\n",
        "    '''\n",
        "\n",
        "    for row in csv_reader:\n",
        "        cursor.execute(insert_query, row)\n",
        "\n",
        "# Commit changes and close the connection\n",
        "conn.commit()\n"
      ],
      "metadata": {
        "id": "mLgvXe86mIDF"
      },
      "execution_count": null,
      "outputs": []
    },
    {
      "cell_type": "code",
      "source": [
        "# Execute a SELECT query to retrieve data from the table\n",
        "cursor.execute('SELECT * FROM Food_Access')\n",
        "\n",
        "# Fetch all the rows from the query result\n",
        "rows = cursor.fetchall()\n",
        "\n",
        "# Print the column headers\n",
        "header = [description[0] for description in cursor.description]\n",
        "print(\"\\t\".join(header))\n",
        "\n",
        "# Print the data\n",
        "for row in rows:\n",
        "    print(\"\\t\".join(map(str, row)))\n",
        "\n"
      ],
      "metadata": {
        "id": "y-pKUHpTnYPt"
      },
      "execution_count": null,
      "outputs": []
    },
    {
      "cell_type": "code",
      "source": [
        "# Get column names from the table\n",
        "columns = [description[1] for description in cursor.execute('PRAGMA table_info(Food_Access)').fetchall()]\n",
        "\n",
        "# Update each column to replace \"NULL\" with NULL values\n",
        "for column in columns:\n",
        "    update_query = f'UPDATE Food_Access SET {column} = NULL WHERE {column} = \"NULL\"'\n",
        "    cursor.execute(update_query)\n",
        "\n",
        "# Commit changes and close the connection\n",
        "conn.commit()"
      ],
      "metadata": {
        "id": "G2lORtvIuDSs"
      },
      "execution_count": null,
      "outputs": []
    },
    {
      "cell_type": "code",
      "source": [
        "# Fetch and print data from the updated table\n",
        "cursor.execute(f'SELECT * FROM Food_Access')\n",
        "rows = cursor.fetchall()\n",
        "\n",
        "# Print the column headers\n",
        "header = columns\n",
        "print(\"\\t\".join(header))\n",
        "\n",
        "# Print the data\n",
        "for row in rows:\n",
        "    print(\"\\t\".join(map(str, row)))"
      ],
      "metadata": {
        "id": "S22zyNgZumAj"
      },
      "execution_count": null,
      "outputs": []
    },
    {
      "cell_type": "markdown",
      "source": [
        "### Analyzing NC Counties and SNAP Benefits"
      ],
      "metadata": {
        "id": "0KieC0I1z95F"
      }
    },
    {
      "cell_type": "code",
      "source": [
        "# Fields about SNAP benefits:\n",
        "# lasnaphalf = Low access, housing units receiving SNAP benefits at 1/2 mile, number\n",
        "# lasnaphalfshare = Low access, housing units receiving SNAP benefits at 1/2 mile, share\n",
        "# lasnap1 = Low access, housing units receiving SNAP benefits at 1 mile, number\n",
        "# lasnap1share = Low access, housing units receiving SNAP benefits at 1 mile, share\n",
        "# lasnap10 = Low access, housing units receiving SNAP benefits at 10 miles, number\n",
        "# lasnap10share = Low access,housing units receiving SNAP benefits at 10 miles, share\n",
        "# lasnap20 = Low access, housing units receiving SNAP benefits at 20 miles, number\n",
        "# lasnap20share = Low access, housing units receiving SNAP benefits at 20 miles, share"
      ],
      "metadata": {
        "id": "vvnYqbOTMAwl"
      },
      "execution_count": null,
      "outputs": []
    },
    {
      "cell_type": "code",
      "source": [
        "# Query 1: What Census Tract has the lowest number of housing units recieving SNAP benefits?\n",
        "# Query 2: What Census Tract has the highest number of housing units recieving SNAP benefits?\n",
        "\n",
        "# TractSNAP : Tract housing units receiving SNAP benefits, number\n",
        "\n",
        "# Find the CensusTract and County with the lowest and highest TractSNAP values\n",
        "min_max_query = 'SELECT CensusTract, County FROM Food_Access WHERE TractSNAP = (SELECT MIN(TractSNAP) FROM Food_Access) OR TractSNAP = (SELECT MAX(TractSNAP) FROM Food_Access)'\n",
        "cursor.execute(min_max_query)\n",
        "min_max_tracts = cursor.fetchall()\n",
        "\n",
        "# Print the result\n",
        "print(\"CensusTract with Lowest TractSNAP:\", min_max_tracts[0][0], \"in County:\", min_max_tracts[0][1])\n",
        "print(\"CensusTract with Highest TractSNAP:\", min_max_tracts[1][0], \"in County:\", min_max_tracts[1][1])\n"
      ],
      "metadata": {
        "colab": {
          "base_uri": "https://localhost:8080/"
        },
        "id": "Zu5pcfMJyIpG",
        "outputId": "f689ce42-864b-4cb2-98b1-31019f5c3b51"
      },
      "execution_count": null,
      "outputs": [
        {
          "output_type": "stream",
          "name": "stdout",
          "text": [
            "CensusTract with Lowest TractSNAP: 37001021701 in County: Alamance County\n",
            "CensusTract with Highest TractSNAP: 37031970604 in County: Carteret County\n"
          ]
        }
      ]
    },
    {
      "cell_type": "code",
      "source": [
        "# Query 3: Need to make a visualization of the top 10 counties with the highest number of housing units utilizing SNAP benefits\n",
        "\n",
        "# Commit changes\n",
        "\n",
        "# Find the top 10 counties with the highest TractSNAP values\n",
        "top_counties_query = 'SELECT County, MAX(TractSNAP) AS MaxTractSNAP FROM Food_Access GROUP BY County ORDER BY MaxTractSNAP DESC LIMIT 10'\n",
        "cursor.execute(top_counties_query)\n",
        "top_counties = cursor.fetchall()\n",
        "\n",
        "# Print the result\n",
        "print(\"Top 10 Counties with Highest TractSNAP:\")\n",
        "print(\"County\\tMax TractSNAP\")\n",
        "for row in top_counties:\n",
        "    county, max_tract_snap = row\n",
        "    print(f'{county}\\t{max_tract_snap}')"
      ],
      "metadata": {
        "colab": {
          "base_uri": "https://localhost:8080/"
        },
        "id": "vhE3Kd5e0aP5",
        "outputId": "0347f0c8-32ff-4247-8580-c2eedfff8fc6"
      },
      "execution_count": null,
      "outputs": [
        {
          "output_type": "stream",
          "name": "stdout",
          "text": [
            "Top 10 Counties with Highest TractSNAP:\n",
            "County\tMax TractSNAP\n",
            "Wake County\t994\n",
            "Mecklenburg County\t99\n",
            "Guilford County\t99\n",
            "Davidson County\t99\n",
            "Onslow County\t98\n",
            "Iredell County\t98\n",
            "Forsyth County\t98\n",
            "Durham County\t98\n",
            "Surry County\t97\n",
            "Rowan County\t97\n"
          ]
        }
      ]
    },
    {
      "cell_type": "code",
      "source": [
        "# Query 4: Need to make a visualization of the top 10 counties with the lowest number of housing units utilizing SNAP benefits\n",
        "\n",
        "# Commit changes\n",
        "\n",
        "# Find the top 10 counties with the lowest TractSNAP values\n",
        "top_counties_query = 'SELECT County, MIN(TractSNAP) AS MinTractSNAP FROM Food_Access GROUP BY County ORDER BY MinTractSNAP DESC LIMIT 10'\n",
        "cursor.execute(top_counties_query)\n",
        "top_counties = cursor.fetchall()\n",
        "\n",
        "# Print the result\n",
        "print(\"Top 10 Counties with Lowest TractSNAP:\")\n",
        "print(\"County\\tMin TractSNAP\")\n",
        "for row in top_counties:\n",
        "    county, max_tract_snap = row\n",
        "    print(f'{county}\\t{max_tract_snap}')"
      ],
      "metadata": {
        "colab": {
          "base_uri": "https://localhost:8080/"
        },
        "id": "wWoZ4hjo1pIX",
        "outputId": "dc51c1c9-2f43-4008-af5c-604fb8cdd3fc"
      },
      "execution_count": null,
      "outputs": [
        {
          "output_type": "stream",
          "name": "stdout",
          "text": [
            "Top 10 Counties with Lowest TractSNAP:\n",
            "County\tMin TractSNAP\n",
            "Hyde County\t386\n",
            "Bertie County\t369\n",
            "Tyrrell County\t314\n",
            "Bladen County\t299\n",
            "Greene County\t291\n",
            "Clay County\t289\n",
            "Perquimans County\t278\n",
            "Warren County\t261\n",
            "Sampson County\t243\n",
            "Ashe County\t242\n"
          ]
        }
      ]
    },
    {
      "cell_type": "code",
      "source": [
        "# Query 5: Need to make a visualization of the top 10 CensusTract with the highest number of housing units utilizing SNAP benefits\n",
        "\n",
        "# Commit changes\n",
        "\n",
        "# Find the top 10 Census Tracts with the highest TractSNAP values\n",
        "top_counties_query = 'SELECT CensusTract, MAX(TractSNAP) AS MaxTractSNAP FROM Food_Access GROUP BY CensusTract ORDER BY MaxTractSNAP DESC LIMIT 10'\n",
        "cursor.execute(top_counties_query)\n",
        "top_counties = cursor.fetchall()\n",
        "\n",
        "# Print the result\n",
        "print(\"Top 10 Census Tracts with Highest TractSNAP:\")\n",
        "print(\"CensusTract\\tMax TractSNAP\")\n",
        "for row in top_counties:\n",
        "    census, max_tract_snap = row\n",
        "    print(f'{census}\\t{max_tract_snap}')"
      ],
      "metadata": {
        "colab": {
          "base_uri": "https://localhost:8080/"
        },
        "id": "qqDm_FnS3OCO",
        "outputId": "67c0e49a-9803-4393-a9e8-dec60a99a6e2"
      },
      "execution_count": null,
      "outputs": [
        {
          "output_type": "stream",
          "name": "stdout",
          "text": [
            "Top 10 Census Tracts with Highest TractSNAP:\n",
            "CensusTract\tMax TractSNAP\n",
            "37183052806\t994\n",
            "37119005523\t99\n",
            "37119002100\t99\n",
            "37081012508\t99\n",
            "37057060102\t99\n",
            "37183053420\t98\n",
            "37133000900\t98\n",
            "37097060703\t98\n",
            "37067002804\t98\n",
            "37063001806\t98\n"
          ]
        }
      ]
    },
    {
      "cell_type": "code",
      "source": [
        "# Query 6: How many Counties in North Carolina have more than 800 housing units utilizing SNAP benefits?\n",
        "# Execute the query\n",
        "count_query = 'SELECT COUNT(DISTINCT County) FROM Food_Access WHERE TractSNAP > 800 AND State = \"North Carolina\"'\n",
        "cursor.execute(count_query)\n",
        "result = cursor.fetchone()\n",
        "\n",
        "# Print the result\n",
        "count_of_counties = result[0]\n",
        "print(f'The number of counties in North Carolina with more than 800 housing units utilizing SNAP benefits is: {count_of_counties}')\n",
        "\n"
      ],
      "metadata": {
        "colab": {
          "base_uri": "https://localhost:8080/"
        },
        "id": "S-k1A0U_471W",
        "outputId": "452aaa2d-77dc-4b76-9e61-75171391ed7f"
      },
      "execution_count": null,
      "outputs": [
        {
          "output_type": "stream",
          "name": "stdout",
          "text": [
            "The number of counties in North Carolina with more than 800 housing units utilizing SNAP benefits is: 44\n"
          ]
        }
      ]
    },
    {
      "cell_type": "markdown",
      "source": [
        "### Analyzing NC Counties and Vehicle Access"
      ],
      "metadata": {
        "id": "hb9jz34X62iS"
      }
    },
    {
      "cell_type": "code",
      "source": [
        "# Fields about Vehicle Access:\n",
        "# HUNVFlag = Vehicle access, tract with low vehicle access (Flag for tract where >= 100 of households do not have a vehicle, and beyond 1/2 mile from supermarket)\n",
        "# lahunv10 = Vehicle access, housing units without and low access at 10 miles, number\n",
        "# lahunv10share = Vehicle access, housing units without and low access at 10 miles, share\n",
        "# lahunv20 = Vehicle access, housing units without and low access at 20 miles, number\n",
        "# lahunv20share = Vehicle access, housing units without and low access at 20 miles, share\n",
        "# TractHUNV = Tract housing units without a vehicle, number"
      ],
      "metadata": {
        "id": "HnrxNFfhJPgE"
      },
      "execution_count": null,
      "outputs": []
    },
    {
      "cell_type": "markdown",
      "source": [
        "### Income"
      ],
      "metadata": {
        "id": "RkV9JAIzOSeL"
      }
    },
    {
      "cell_type": "code",
      "source": [
        "# Fields about Income:\n",
        "#"
      ],
      "metadata": {
        "id": "Yclch10VOVFE"
      },
      "execution_count": null,
      "outputs": []
    },
    {
      "cell_type": "markdown",
      "source": [
        "### Children"
      ],
      "metadata": {
        "id": "MaybrT8hOcno"
      }
    },
    {
      "cell_type": "code",
      "source": [
        "# Fields about Children"
      ],
      "metadata": {
        "id": "YnJ-FU0sOe0j"
      },
      "execution_count": null,
      "outputs": []
    },
    {
      "cell_type": "markdown",
      "source": [
        "### Seniors"
      ],
      "metadata": {
        "id": "XW__aV6VOh_o"
      }
    },
    {
      "cell_type": "code",
      "source": [
        "# Fields about Seniors"
      ],
      "metadata": {
        "id": "RGOsA7NsOhOr"
      },
      "execution_count": null,
      "outputs": []
    },
    {
      "cell_type": "markdown",
      "source": [
        "### White"
      ],
      "metadata": {
        "id": "2c4DY9i1On14"
      }
    },
    {
      "cell_type": "code",
      "source": [
        "# Fields about white people"
      ],
      "metadata": {
        "id": "9vO7MS4EOmoB"
      },
      "execution_count": null,
      "outputs": []
    },
    {
      "cell_type": "markdown",
      "source": [
        "### Black"
      ],
      "metadata": {
        "id": "cw67RIYZOsDJ"
      }
    },
    {
      "cell_type": "code",
      "source": [
        "# Fields about black people"
      ],
      "metadata": {
        "id": "wSm_Fu4QOu9l"
      },
      "execution_count": null,
      "outputs": []
    },
    {
      "cell_type": "markdown",
      "source": [
        "### Asian"
      ],
      "metadata": {
        "id": "ugDRz-CAPWNm"
      }
    },
    {
      "cell_type": "code",
      "source": [
        "# Fields about asian people"
      ],
      "metadata": {
        "id": "fxik4Sy-PX92"
      },
      "execution_count": null,
      "outputs": []
    },
    {
      "cell_type": "markdown",
      "source": [
        "### Native Hawaiian and Other Pacific Islander population"
      ],
      "metadata": {
        "id": "hdHxSu_LPadf"
      }
    },
    {
      "cell_type": "markdown",
      "source": [
        "### Latino"
      ],
      "metadata": {
        "id": "ADzmapduO3ax"
      }
    },
    {
      "cell_type": "markdown",
      "source": [
        "### American Indian and Alaska Native"
      ],
      "metadata": {
        "id": "3tnPcmgCPg95"
      }
    },
    {
      "cell_type": "code",
      "source": [
        "# Fields about latino people"
      ],
      "metadata": {
        "id": "3trjsHE4O6GX"
      },
      "execution_count": null,
      "outputs": []
    },
    {
      "cell_type": "code",
      "source": [
        "# Close the connection\n",
        "conn.close()"
      ],
      "metadata": {
        "id": "PlxSRPm9qLyA"
      },
      "execution_count": null,
      "outputs": []
    }
  ]
}